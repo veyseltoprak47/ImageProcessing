{
 "cells": [
  {
   "cell_type": "code",
   "execution_count": 7,
   "metadata": {},
   "outputs": [],
   "source": [
    "#importing the required libraries\n",
    "import cv2\n",
    "import numpy as np"
   ]
  },
  {
   "cell_type": "markdown",
   "metadata": {},
   "source": [
    "Part III: A Drawing Application"
   ]
  },
  {
   "cell_type": "code",
   "execution_count": 34,
   "metadata": {},
   "outputs": [],
   "source": [
    "#Create a program to draw green rectangles on a image with thickness is 4.\n",
    "img = cv2.imread('komodo.jpg')\n",
    "# Define the top-left and bottom-right corners of the rectangle\n",
    "top_left = (50, 50)\n",
    "bottom_right = (800, 600)\n",
    "color = (0, 255, 0)  # Green color\n",
    "thickness = 4  # Thickness of 4 pixels\n",
    "\n",
    "# Draw the rectangle on the image\n",
    "cv2.rectangle(img, top_left, bottom_right, color, thickness)\n",
    "\n",
    "cv2.imshow('Rectangle', img)\n",
    "cv2.waitKey(0)\n",
    "cv2.destroyAllWindows()"
   ]
  },
  {
   "cell_type": "code",
   "execution_count": 55,
   "metadata": {},
   "outputs": [],
   "source": [
    "# Change thickness to -1. What do you notice? Explain why this happens.\n",
    "img = cv2.imread('komodo.jpg')\n",
    "filled_rectangle_img=cv2.rectangle(img, (50, 50), (350, 200), (0, 255, 0), -1)\n",
    "cv2.imshow('Filled Rectangle', filled_rectangle_img)\n",
    "cv2.waitKey(0)\n",
    "cv2.destroyAllWindows()"
   ]
  },
  {
   "cell_type": "markdown",
   "metadata": {},
   "source": [
    "When the thickness is set to -1, the rectangle is filled with green color."
   ]
  },
  {
   "cell_type": "code",
   "execution_count": 57,
   "metadata": {},
   "outputs": [],
   "source": [
    "# Put text on the rectangle\n",
    "# Define the text, position, font, scale, color, and thickness\n",
    "text = 'Computer Vision'\n",
    "position = (70, 125)  # Bottom-left corner of the text\n",
    "font = cv2.FONT_HERSHEY_SIMPLEX\n",
    "font_scale = 1\n",
    "color = (0, 0, 0)  # Black color\n",
    "thickness = 2\n",
    "\n",
    "img_text=cv2.putText(filled_rectangle_img, text, position, font, font_scale, color, thickness)\n",
    "cv2.imshow('Text on Rectangle', img_text)\n",
    "cv2.waitKey(0)\n",
    "cv2.destroyAllWindows()"
   ]
  }
 ],
 "metadata": {
  "kernelspec": {
   "display_name": "com_vision_virtualEnv",
   "language": "python",
   "name": "python3"
  },
  "language_info": {
   "codemirror_mode": {
    "name": "ipython",
    "version": 3
   },
   "file_extension": ".py",
   "mimetype": "text/x-python",
   "name": "python",
   "nbconvert_exporter": "python",
   "pygments_lexer": "ipython3",
   "version": "3.12.6"
  }
 },
 "nbformat": 4,
 "nbformat_minor": 2
}

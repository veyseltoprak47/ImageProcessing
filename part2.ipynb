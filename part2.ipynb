{
 "cells": [
  {
   "cell_type": "code",
   "execution_count": 6,
   "metadata": {},
   "outputs": [],
   "source": [
    "# import the necessary packages\n",
    "import cv2\n",
    "import numpy as np"
   ]
  },
  {
   "cell_type": "markdown",
   "metadata": {},
   "source": [
    "Part II: Image Arithmetic "
   ]
  },
  {
   "cell_type": "code",
   "execution_count": 7,
   "metadata": {},
   "outputs": [],
   "source": [
    "# Load an image\n",
    "img = cv2.imread('komodo.jpg')\n",
    "bright_img = cv2.add(img, np.array([123])) # Add 123 to each pixel value\n",
    "contrast_img = cv2.addWeighted(img, 1.5, np.zeros(img.shape, img.dtype), 0, 0) # Increase contrast by 50%\n",
    "\n",
    "# Check if image is loaded. If not, print an error message\n",
    "if img is None:\n",
    "    print('Image not found')\n",
    "    exit()\n",
    "\n",
    "# Display the image\n",
    "cv2.imshow('Original Image', img)\n",
    "cv2.imshow('Brighten Image', bright_img)\n",
    "cv2.imshow('Contrast Image', contrast_img)\n",
    "\n",
    "# Wait for a key press and close the window\n",
    "cv2.waitKey(0)\n",
    "cv2.destroyAllWindows()"
   ]
  },
  {
   "cell_type": "markdown",
   "metadata": {},
   "source": [
    "b. Linear blend: "
   ]
  },
  {
   "cell_type": "code",
   "execution_count": 8,
   "metadata": {},
   "outputs": [],
   "source": [
    "image2 = cv2.imread('peacock.jpg')\n",
    "image2 = cv2.resize(image2, (img.shape[1], img.shape[0]))\n",
    "cv2.imshow('Second Image(Peacock)', image2)\n",
    "\n",
    "# Wait for a key press and close the window\n",
    "cv2.waitKey(0)\n",
    "cv2.destroyAllWindows()"
   ]
  },
  {
   "cell_type": "code",
   "execution_count": 18,
   "metadata": {},
   "outputs": [],
   "source": [
    "img = cv2.imread('komodo.jpg')\n",
    "#Ask the user for a number (alpha) between 0 and 1. \n",
    "alpha = float(input(\"Enter a value for alpha (0 to 1): \"))\n",
    "#Implement a linear blend of the two images: \n",
    "blend =  cv2.addWeighted(img, 1 - alpha, image2, alpha, 0)\n",
    "cv2.imshow('Blended Image', blend)\n",
    "cv2.waitKey(0)\n",
    "cv2.destroyAllWindows()"
   ]
  }
 ],
 "metadata": {
  "kernelspec": {
   "display_name": "com_vision_virtualEnv",
   "language": "python",
   "name": "python3"
  },
  "language_info": {
   "codemirror_mode": {
    "name": "ipython",
    "version": 3
   },
   "file_extension": ".py",
   "mimetype": "text/x-python",
   "name": "python",
   "nbconvert_exporter": "python",
   "pygments_lexer": "ipython3",
   "version": "3.12.6"
  }
 },
 "nbformat": 4,
 "nbformat_minor": 2
}
